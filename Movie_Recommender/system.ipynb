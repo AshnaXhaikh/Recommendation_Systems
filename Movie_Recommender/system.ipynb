{
 "cells": [
  {
   "cell_type": "code",
   "execution_count": null,
   "id": "236171e1",
   "metadata": {},
   "outputs": [],
   "source": [
    "import pandas as pd\n",
    "import numpy as np  \n",
    "import json\n",
    "import pickle\n",
    "from sklearn.feature_extraction.text import CountVectorizer\n",
    "from sklearn.metrics.pairwise import cosine_similarity\n",
    "from nltk.stem.porter import PorterStemmer"
   ]
  },
  {
   "cell_type": "code",
   "execution_count": null,
   "id": "d2225276",
   "metadata": {},
   "outputs": [],
   "source": [
    "import os\n",
    "print(os.getcwd())"
   ]
  },
  {
   "cell_type": "code",
   "execution_count": null,
   "id": "faa1c0c0",
   "metadata": {},
   "outputs": [],
   "source": [
    "# os.chdir('tmdb-recommender')"
   ]
  },
  {
   "cell_type": "code",
   "execution_count": null,
   "id": "9b8301b9",
   "metadata": {},
   "outputs": [],
   "source": [
    "movies = pd.read_csv(r'.\\data\\tmdb_5000_movies.csv')\n",
    "credits = pd.read_csv(r'.\\data\\tmdb_5000_credits.csv')  "
   ]
  },
  {
   "cell_type": "code",
   "execution_count": null,
   "id": "73c4b07a",
   "metadata": {},
   "outputs": [],
   "source": [
    "movies.shape, credits.shape"
   ]
  },
  {
   "cell_type": "code",
   "execution_count": null,
   "id": "ca556287",
   "metadata": {},
   "outputs": [],
   "source": [
    "movies = movies.merge(credits, on='title')"
   ]
  },
  {
   "cell_type": "code",
   "execution_count": null,
   "id": "c22c76b7",
   "metadata": {},
   "outputs": [],
   "source": [
    "# 'crew' in movies.columns\n",
    "movies = movies[['movie_id', 'title', 'genres', 'keywords', 'overview', 'cast', 'crew']]\n",
    "movies.info()"
   ]
  },
  {
   "cell_type": "code",
   "execution_count": null,
   "id": "99f2575a",
   "metadata": {},
   "outputs": [],
   "source": [
    "movies.dropna(inplace=True)\n",
    "movies.isna().sum()"
   ]
  },
  {
   "cell_type": "code",
   "execution_count": null,
   "id": "c32f2e87",
   "metadata": {},
   "outputs": [],
   "source": [
    "movies.genres.iloc[0]"
   ]
  },
  {
   "cell_type": "code",
   "execution_count": null,
   "id": "7fdcca77",
   "metadata": {},
   "outputs": [],
   "source": [
    "def extract_names(genre_str):\n",
    "  genres = json.loads(genre_str)\n",
    "  return [genre['name'] for genre in genres]\n"
   ]
  },
  {
   "cell_type": "code",
   "execution_count": null,
   "id": "15420e0b",
   "metadata": {},
   "outputs": [],
   "source": [
    "movies['genres'] = movies['genres'].apply(extract_names)\n",
    "movies['genres'].sample()"
   ]
  },
  {
   "cell_type": "code",
   "execution_count": null,
   "id": "2a95bac2",
   "metadata": {},
   "outputs": [],
   "source": [
    "movies['keywords'] = movies['keywords'].apply(extract_names)"
   ]
  },
  {
   "cell_type": "code",
   "execution_count": null,
   "id": "57a2e219",
   "metadata": {},
   "outputs": [],
   "source": [
    "def extract_top3_cast(cast_str):\n",
    "    cast_list = json.loads(cast_str)\n",
    "    top3_cast = [cast['character'] for cast in cast_list[:3]]\n",
    "    return top3_cast"
   ]
  },
  {
   "cell_type": "code",
   "execution_count": null,
   "id": "98c10c1a",
   "metadata": {},
   "outputs": [],
   "source": [
    "movies['cast'] = movies['cast'].apply(extract_top3_cast)\n",
    "movies['cast'].sample()"
   ]
  },
  {
   "cell_type": "code",
   "execution_count": null,
   "id": "4ed4f4fa",
   "metadata": {},
   "outputs": [],
   "source": [
    "def director(dir_name):\n",
    "    crew_list = json.loads(dir_name)  # Convert string to list of dictionaries\n",
    "    directors = [member['name'] for member in crew_list if member.get('job') == 'Director']  # Extract names of directors\n",
    "    return directors\n",
    "\n",
    "movies['crew'] = movies['crew'].apply(director)\n",
    "movies['crew'].sample()"
   ]
  },
  {
   "cell_type": "code",
   "execution_count": null,
   "id": "a8db7aa0",
   "metadata": {},
   "outputs": [],
   "source": [
    "movies['genres'] = movies['genres'].apply(lambda x: [i.replace(\" \", \"\") for i in x])\n",
    "movies['cast'] = movies['cast'].apply(lambda x: [i.replace(\" \", \"\") for i in x])\n",
    "movies['crew'] = movies['crew'].apply(lambda x: [i.replace(\" \", \"\") for i in x])\n",
    "movies['keywords'] = movies['keywords'].apply(lambda x: [i.replace(\" \", \"\") for i in x])"
   ]
  },
  {
   "cell_type": "code",
   "execution_count": null,
   "id": "6376ac0d",
   "metadata": {},
   "outputs": [],
   "source": [
    "movies['tags'] = movies['genres'] + movies['cast'] + movies['crew'] + movies['keywords']"
   ]
  },
  {
   "cell_type": "code",
   "execution_count": null,
   "metadata": {},
   "outputs": [],
   "source": [
    "new_df = movies[['movie_id', 'title', 'tags']]\n",
    "new_df.head(1)"
   ]
  },
  {
   "cell_type": "code",
   "execution_count": null,
   "id": "a62a8fc0",
   "metadata": {},
   "outputs": [],
   "source": [
    "credits[credits['title'] == 'Avatar'].values[0]"
   ]
  },
  {
   "cell_type": "code",
   "execution_count": null,
   "metadata": {},
   "outputs": [],
   "source": [
    "new_df['tags'] = movies['tags'].apply(lambda x: \" \".join(x))"
   ]
  },
  {
   "cell_type": "code",
   "execution_count": null,
   "id": "e55d5bcf",
   "metadata": {},
   "outputs": [],
   "source": [
    "new_df['tags'] = new_df['tags'].apply(lambda x: x.lower())"
   ]
  },
  {
   "cell_type": "markdown",
   "id": "ad975cc8",
   "metadata": {},
   "source": [
    "vectorization"
   ]
  },
  {
   "cell_type": "code",
   "execution_count": null,
   "id": "5bfbd1e2",
   "metadata": {},
   "outputs": [],
   "source": [
    "ps = PorterStemmer()"
   ]
  },
  {
   "cell_type": "code",
   "execution_count": null,
   "id": "131072eb",
   "metadata": {},
   "outputs": [],
   "source": [
    "def stem(text):\n",
    "    return \" \".join([ps.stem(word) for word in text.split()])"
   ]
  },
  {
   "cell_type": "code",
   "execution_count": null,
   "id": "f1e56ab2",
   "metadata": {},
   "outputs": [],
   "source": [
    "# now apply this function to our corpus of text\n",
    "new_df['tags'] = new_df['tags'].apply(stem)\n",
    "new_df['tags']"
   ]
  },
  {
   "cell_type": "code",
   "execution_count": null,
   "id": "7b590bd5",
   "metadata": {},
   "outputs": [],
   "source": [
    "cv = CountVectorizer(max_features=5000, stop_words='english')"
   ]
  },
  {
   "cell_type": "code",
   "execution_count": null,
   "id": "c9eeca1f",
   "metadata": {},
   "outputs": [],
   "source": [
    "vectors = cv.fit_transform(new_df['tags']).toarray()\n",
    "len(vectors)"
   ]
  },
  {
   "cell_type": "code",
   "execution_count": null,
   "id": "68798235",
   "metadata": {},
   "outputs": [],
   "source": [
    "for word in cv.get_feature_names_out():\n",
    "    print(word)"
   ]
  },
  {
   "cell_type": "code",
   "execution_count": null,
   "id": "86f575db",
   "metadata": {},
   "outputs": [],
   "source": [
    "similarity = cosine_similarity(vectors)"
   ]
  },
  {
   "cell_type": "code",
   "execution_count": null,
   "id": "b109de11",
   "metadata": {},
   "outputs": [],
   "source": [
    "pickle.dump(similarity, open('data/similarity.pkl', 'wb'))\n",
    "pickle.dump(new_df, open('data/movies.pkl', 'wb'))"
   ]
  },
  {
   "cell_type": "code",
   "execution_count": null,
   "id": "34a2eb3f",
   "metadata": {},
   "outputs": [],
   "source": []
  }
 ],
 "metadata": {
  "kernelspec": {
   "display_name": "myenv",
   "language": "python",
   "name": "python3"
  },
  "language_info": {
   "codemirror_mode": {
    "name": "ipython",
    "version": 3
   },
   "file_extension": ".py",
   "mimetype": "text/x-python",
   "name": "python",
   "nbconvert_exporter": "python",
   "pygments_lexer": "ipython3",
   "version": "3.12.9"
  }
 },
 "nbformat": 4,
 "nbformat_minor": 5
}
